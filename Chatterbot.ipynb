{
  "nbformat": 4,
  "nbformat_minor": 0,
  "metadata": {
    "colab": {
      "name": "Chatterbot.ipynb",
      "provenance": [],
      "collapsed_sections": []
    },
    "kernelspec": {
      "name": "python3",
      "display_name": "Python 3"
    },
    "language_info": {
      "name": "python"
    }
  },
  "cells": [
    {
      "cell_type": "code",
      "metadata": {
        "colab": {
          "base_uri": "https://localhost:8080/"
        },
        "id": "uUcdFnRowKht",
        "outputId": "7dc45e3d-3e62-40a6-a023-81f7b31451c2"
      },
      "source": [
        "!pip install chatterbot"
      ],
      "execution_count": null,
      "outputs": [
        {
          "output_type": "stream",
          "text": [
            "Collecting chatterbot\n",
            "\u001b[?25l  Downloading https://files.pythonhosted.org/packages/7c/21/85c2b114bd9dfabdd46ba58fc4519acdaed45d8c70898d40079e37a45e67/ChatterBot-1.0.8-py2.py3-none-any.whl (63kB)\n",
            "\r\u001b[K     |█████▏                          | 10kB 8.7MB/s eta 0:00:01\r\u001b[K     |██████████▎                     | 20kB 13.3MB/s eta 0:00:01\r\u001b[K     |███████████████▌                | 30kB 9.9MB/s eta 0:00:01\r\u001b[K     |████████████████████▋           | 40kB 7.7MB/s eta 0:00:01\r\u001b[K     |█████████████████████████▊      | 51kB 4.6MB/s eta 0:00:01\r\u001b[K     |███████████████████████████████ | 61kB 5.2MB/s eta 0:00:01\r\u001b[K     |████████████████████████████████| 71kB 3.0MB/s \n",
            "\u001b[?25hCollecting mathparse<0.2,>=0.1\n",
            "  Downloading https://files.pythonhosted.org/packages/c3/e5/4910fb85950cb960fcf3f5aabe1c8e55f5c9201788a1c1302b570a7e1f84/mathparse-0.1.2-py3-none-any.whl\n",
            "Requirement already satisfied: pytz in /usr/local/lib/python3.7/dist-packages (from chatterbot) (2018.9)\n",
            "Requirement already satisfied: python-dateutil<2.9,>=2.8 in /usr/local/lib/python3.7/dist-packages (from chatterbot) (2.8.1)\n",
            "Requirement already satisfied: sqlalchemy<1.4,>=1.3 in /usr/local/lib/python3.7/dist-packages (from chatterbot) (1.3.23)\n",
            "Requirement already satisfied: six>=1.5 in /usr/local/lib/python3.7/dist-packages (from python-dateutil<2.9,>=2.8->chatterbot) (1.15.0)\n",
            "Installing collected packages: mathparse, chatterbot\n",
            "Successfully installed chatterbot-1.0.8 mathparse-0.1.2\n"
          ],
          "name": "stdout"
        }
      ]
    },
    {
      "cell_type": "code",
      "metadata": {
        "id": "H2_GBmgr0NcO"
      },
      "source": [
        "import pandas as pd\n",
        "tweet = pd.read_csv('Uttarakhand.csv')"
      ],
      "execution_count": 136,
      "outputs": []
    },
    {
      "cell_type": "code",
      "metadata": {
        "colab": {
          "base_uri": "https://localhost:8080/",
          "height": 419
        },
        "id": "5oIYgFJD0haD",
        "outputId": "b32335dd-cd3b-4242-d2a7-a899404c13c3"
      },
      "source": [
        "tweet"
      ],
      "execution_count": null,
      "outputs": [
        {
          "output_type": "execute_result",
          "data": {
            "text/html": [
              "<div>\n",
              "<style scoped>\n",
              "    .dataframe tbody tr th:only-of-type {\n",
              "        vertical-align: middle;\n",
              "    }\n",
              "\n",
              "    .dataframe tbody tr th {\n",
              "        vertical-align: top;\n",
              "    }\n",
              "\n",
              "    .dataframe thead th {\n",
              "        text-align: right;\n",
              "    }\n",
              "</style>\n",
              "<table border=\"1\" class=\"dataframe\">\n",
              "  <thead>\n",
              "    <tr style=\"text-align: right;\">\n",
              "      <th></th>\n",
              "      <th>tweet</th>\n",
              "    </tr>\n",
              "  </thead>\n",
              "  <tbody>\n",
              "    <tr>\n",
              "      <th>0</th>\n",
              "      <td>Horrible news out of #Uttarakhand</td>\n",
              "    </tr>\n",
              "    <tr>\n",
              "      <th>1</th>\n",
              "      <td>Prayer for #Uttarakhand 🙏🙏</td>\n",
              "    </tr>\n",
              "    <tr>\n",
              "      <th>2</th>\n",
              "      <td>Ohhh God Please Save #Uttarakhand</td>\n",
              "    </tr>\n",
              "    <tr>\n",
              "      <th>3</th>\n",
              "      <td>Extremely Sad To Hear About The #Uttarakhand G...</td>\n",
              "    </tr>\n",
              "    <tr>\n",
              "      <th>4</th>\n",
              "      <td>Prayers for #Uttarakhand 🙏🙏</td>\n",
              "    </tr>\n",
              "    <tr>\n",
              "      <th>...</th>\n",
              "      <td>...</td>\n",
              "    </tr>\n",
              "    <tr>\n",
              "      <th>8141</th>\n",
              "      <td>😊\\n\\nHope everyone is fine, Prayers 🙏\\n#Uttara...</td>\n",
              "    </tr>\n",
              "    <tr>\n",
              "      <th>8142</th>\n",
              "      <td>What a responsible PM would do in this Situati...</td>\n",
              "    </tr>\n",
              "    <tr>\n",
              "      <th>8143</th>\n",
              "      <td>Scary scenes coming from #Uttarakhand \\n\\nPray...</td>\n",
              "    </tr>\n",
              "    <tr>\n",
              "      <th>8144</th>\n",
              "      <td>ITBP jawans in search and rescue operation in ...</td>\n",
              "    </tr>\n",
              "    <tr>\n",
              "      <th>8145</th>\n",
              "      <td>Sorry guys, I will not be able to tweet today,...</td>\n",
              "    </tr>\n",
              "  </tbody>\n",
              "</table>\n",
              "<p>8146 rows × 1 columns</p>\n",
              "</div>"
            ],
            "text/plain": [
              "                                                  tweet\n",
              "0                     Horrible news out of #Uttarakhand\n",
              "1                            Prayer for #Uttarakhand 🙏🙏\n",
              "2                     Ohhh God Please Save #Uttarakhand\n",
              "3     Extremely Sad To Hear About The #Uttarakhand G...\n",
              "4                           Prayers for #Uttarakhand 🙏🙏\n",
              "...                                                 ...\n",
              "8141  😊\\n\\nHope everyone is fine, Prayers 🙏\\n#Uttara...\n",
              "8142  What a responsible PM would do in this Situati...\n",
              "8143  Scary scenes coming from #Uttarakhand \\n\\nPray...\n",
              "8144  ITBP jawans in search and rescue operation in ...\n",
              "8145  Sorry guys, I will not be able to tweet today,...\n",
              "\n",
              "[8146 rows x 1 columns]"
            ]
          },
          "metadata": {
            "tags": []
          },
          "execution_count": 8
        }
      ]
    },
    {
      "cell_type": "code",
      "metadata": {
        "id": "13nQ08SG0hcj"
      },
      "source": [
        "tweet_list = tweet.values.tolist()"
      ],
      "execution_count": 141,
      "outputs": []
    },
    {
      "cell_type": "code",
      "metadata": {
        "id": "Jl5Op1Ap1tWA"
      },
      "source": [
        "import re\n",
        "import string\n",
        "emoji_pattern = re.compile(\"[\"\n",
        "                           u\"\\U0001F600-\\U0001F64F\"  # emoticons\n",
        "                           u\"\\U0001F300-\\U0001F5FF\"  # symbols & pictographs\n",
        "                           u\"\\U0001F680-\\U0001F6FF\"  # transport & map symbols\n",
        "                           u\"\\U0001F1E0-\\U0001F1FF\"  # flags (iOS)\n",
        "                           u\"\\U00002702-\\U000027B0\"\n",
        "                           u\"\\U000024C2-\\U0001F251\"\n",
        "                           \"]+\", flags=re.UNICODE)\n",
        "PUNCT_TO_REMOVE = string.punctuation\n",
        "url_pattern = re.compile(r'https?://\\S+|www\\.\\S+')\n",
        "    \n",
        "for i in range(0,len(tweet_list)):\n",
        "  tweet_list[i] = url_pattern.sub(r'', tweet_list[i])\n",
        "  \"\"\"\n",
        "  tweet_list[i] = tweet_list[i][0].lower()\n",
        "  tweet_list[i] = emoji_pattern.sub(r'', tweet_list[i])\n",
        "  tweet_list[i] = ' '.join(tweet_list[i].translate(str.maketrans('', '', PUNCT_TO_REMOVE)).split())\n",
        "  \"\"\""
      ],
      "execution_count": 146,
      "outputs": []
    },
    {
      "cell_type": "code",
      "metadata": {
        "colab": {
          "base_uri": "https://localhost:8080/"
        },
        "id": "fX9sRu9CwcHi",
        "outputId": "b8247fcf-8a92-4343-e204-e9be9bf68192"
      },
      "source": [
        "from chatterbot import ChatBot\n",
        "from chatterbot.trainers import ListTrainer\n",
        " \n",
        "chatbot = ChatBot('Root2ai')\n",
        "trainer = ListTrainer(chatbot)\n",
        "trainer.train(tweet_list)\n",
        " \n",
        "helpline_no = chatbot.get_response(\"what is the helpline number?\")\n",
        "what = chatbot.get_response(\"what happened in Uttarakhand?\")\n",
        "People_count = chatbot.get_response(\"How many people were are affected?\")\n",
        "print(helpline_no)\n",
        "print(what)\n",
        "print(People_count)"
      ],
      "execution_count": 147,
      "outputs": [
        {
          "output_type": "stream",
          "text": [
            "List Trainer: [####################] 100%\n",
            "emergency helpline no. 1070, 9557444486 for #chamoli #uttarakhand\n",
            "a tremendous alert for entire world a big glacier has been broken in uttarakhand at india planetarysec\n",
            "Praying for the well-being of everyone in #Uttarakhand 🙏\n"
          ],
          "name": "stdout"
        }
      ]
    }
  ]
}
